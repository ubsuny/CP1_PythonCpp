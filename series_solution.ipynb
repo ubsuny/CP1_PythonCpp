{
 "cells": [
  {
   "cell_type": "markdown",
   "id": "39a134ec-0fe7-411c-859e-97a56516aad3",
   "metadata": {},
   "source": [
    "# HW5 \n",
    "## Problem 1\n",
    "We have to  compute the sum of the series :  $f_n =f_{n-1}^2 $ . Lets compute the first few value for this function: \\\n",
    "Given $ f_1 =f_0^2 = 2^2 = 4 $ \\\n",
    "therefore, $f_2 =f_1^2 = 4^2 = 16  $ \\\n",
    "$f_3= f_2^2 = 16^2  = 256 $ ............\n",
    "We can see that for any given number of 'n' the sum is going to be : \\\n",
    "S = $ f_0^2 + f_1^1 + ........+f_{n-1}^2  $"
   ]
  },
  {
   "cell_type": "markdown",
   "id": "38f3c078-808e-4c46-837e-9537996461ee",
   "metadata": {},
   "source": [
    "# Choosing maximum 'n' for our data types "
   ]
  },
  {
   "cell_type": "markdown",
   "id": "6fbc4ce8-e5df-4fc3-81fc-d3d0f917ab74",
   "metadata": {},
   "source": [
    "For my hardware (**ARM64**) the maximum number can be stored in c++ data types are given below:\\\n",
    "For \"int\" : 2147483647 \\\n",
    "For \"float\":$ 3.40282*10^{38} $  \\\n",
    "and for \"double\":  $1.7 *10^{308} $ ."
   ]
  },
  {
   "cell_type": "markdown",
   "id": "bc1f908c-8aab-41ac-b726-4cda2182c9fa",
   "metadata": {},
   "source": [
    "I ran (executed) the following code to find out the max supported number for the c++ data types :"
   ]
  },
  {
   "cell_type": "markdown",
   "id": "52bdf5b1-274d-42c0-937a-81b29fa0d497",
   "metadata": {},
   "source": [
    "// Find out the max supported number by types;\n",
    "\n",
    "#include <iostream>\n",
    "   \n",
    "    int main() {\n",
    "    using namespace std;\n",
    "    cout << numeric_limits<int>::max() << endl;\n",
    "    cout << numeric_limits<float>::max() << endl;\n",
    "    cout << numeric_limits<long long>::max() << endl;\n",
    "\n",
    "    return 0;\n",
    "}\n",
    "\n"
   ]
  },
  {
   "cell_type": "markdown",
   "id": "94991fd0-8642-441f-9825-a3b393d9f166",
   "metadata": {},
   "source": [
    "Which showed me the following output in my computer :  \\\n",
    "2147483647   \\\n",
    "3.40282e+38   \\\n",
    "9223372036854775807"
   ]
  },
  {
   "cell_type": "markdown",
   "id": "9c4b8b3a-a973-42eb-a52c-c9286db246f2",
   "metadata": {},
   "source": [
    "We can see that for our series the sum for any chosen n must not exceed these limits.\n",
    "We can find out the maximum allowed number for our data types as follows : \\\n",
    "For \"int\" : $ S_{max} $ = 2147483647 , thus n (max) would be = 5 ; otherwise the last value of the sum will exceed the max limit \\\n",
    "For \"float\":$ S_{max} $ = 3.40282e+38 , thus n (max) would be n = 7 ; otherwise the last value of the sum  will exceed the max limit \\\n",
    "For \"double\" : $ S_{max} $ = 9223372036854775807, thus n (max) would be n = 10 ; otherwise the last value of the sum  will exceed the max limit. "
   ]
  },
  {
   "cell_type": "markdown",
   "id": "f9e77950-0224-4a49-a01a-466e773ab602",
   "metadata": {},
   "source": [
    "# Problem 2 \n",
    "## Solve problem 1 with C++\n",
    "We will wrtite 3 different codes for 3 different data types (int, float and double) .\n",
    "For the int types the codes are given follows:"
   ]
  },
  {
   "cell_type": "markdown",
   "id": "d79250b7-2a9b-4e30-b007-b30d4c5d039b",
   "metadata": {},
   "source": [
    "#include <iostream>\n",
    "using namespace std;\n",
    "\n",
    "int main()\n",
    "#For Int data type;\n",
    "{ \n",
    "    int n, init_s =2, sum=0;\n",
    "    cout << \"Please enter the value for n (max 5 ) : \";\n",
    "    cin >> n;\n",
    "    \n",
    "\n",
    "\tfor (int i=1; i<n; i++)\n",
    "    {\n",
    "    init_s= init_s*init_s ;\n",
    "    sum = sum+ init_s;\n",
    "    }\n",
    " \n",
    " cout << \"The sum of the series for n =  \" <<  n  << \"  is :  \" << sum ;\n",
    " \n",
    " return 0;\n",
    "}\n",
    "\n"
   ]
  },
  {
   "cell_type": "markdown",
   "id": "3ce20c06-8102-470c-8f2a-07d64d70fa07",
   "metadata": {},
   "source": [
    "we save this file as **series_int.cc** in current folder and run the following command to make it excecutable :\n",
    "**g++ series_int.cc -o series_int**  \\\n",
    "than we run the file using  **./series_int** . In my computer the code runs without any issue and its shows the expected result."
   ]
  },
  {
   "cell_type": "markdown",
   "id": "f8cbccf4-b028-48e8-a46a-e849a384e7da",
   "metadata": {},
   "source": [
    "For the Float data type we write the following code :"
   ]
  },
  {
   "cell_type": "markdown",
   "id": "21418045-b8d2-4d71-91e8-d126c1e7ef5b",
   "metadata": {},
   "source": [
    "#include <iostream>\n",
    "using namespace std;\n",
    "\n",
    "int main()\n",
    "{ \n",
    "    float n,init_s=2, sum = 0;\n",
    "    cout << \"Please enter the value for n (max 7) : \";\n",
    "    cin >> n;\n",
    "    \n",
    "\n",
    "\tfor (int i=1; i<n; i++)\n",
    "    {\n",
    "    init_s=init_s*init_s;\n",
    "    sum = sum+init_s;\n",
    "    }\n",
    " \n",
    " cout << \"The sum of the series for n = \" << n << \" is : \" << sum ;\n",
    " \n",
    " return 0;\n",
    "}\n",
    "\n"
   ]
  },
  {
   "cell_type": "markdown",
   "id": "e4de63fc-cd94-4ba6-ad38-72d32b10ba25",
   "metadata": {},
   "source": [
    "we save this file as **series_float.cc** in current folder and run the following command to make it excecutable :\n",
    "**g++ series_int.cc -o series_float**  \\\n",
    "than we run the file using  **./series_float** . In my computer the code runs without any issue and its shows the expected result. \\\n",
    "For the double types we wrtie the following code: "
   ]
  },
  {
   "cell_type": "markdown",
   "id": "e797e10e-1ddf-49c7-9681-97e140a661af",
   "metadata": {},
   "source": [
    "#include <iostream>\n",
    "using namespace std;\n",
    "\n",
    "{ \n",
    "    double n,init_s=2 sum = 0;\n",
    "    cout << \"Please enter the value for n (max 10) : \";\n",
    "    cin >> n;\n",
    "    \n",
    "\n",
    "\tfor (int i=1; i<n; i++)\n",
    "    {\n",
    "    init_s= init_s*init_s;                \n",
    "    sum = sum+init_s;\n",
    "    }\n",
    " \n",
    " cout << \"The sum of the series for n = \" << n << \" is : \" << sum ;\n",
    " \n",
    " return 0;\n",
    "}\n",
    "\n",
    "\n",
    "\n",
    "\n"
   ]
  },
  {
   "cell_type": "markdown",
   "id": "51515890-6537-4ba6-97d8-1822df4d59bf",
   "metadata": {},
   "source": [
    "we save this file as **series_double.cc** in current folder and run the following command to make it excecutable :\n",
    "**g++ series_int.cc -o series_double**  \\\n",
    "than we run the file using  **./series_double** . In my computer the code runs without any issue and its shows the expected result."
   ]
  },
  {
   "cell_type": "code",
   "execution_count": null,
   "id": "f9ebfb29-5b77-40a7-8c6f-d62f4e57bc3d",
   "metadata": {},
   "outputs": [],
   "source": []
  }
 ],
 "metadata": {
  "kernelspec": {
   "display_name": "Qiskit v0.31.0 (ipykernel)",
   "language": "python",
   "name": "python3"
  },
  "language_info": {
   "codemirror_mode": {
    "name": "ipython",
    "version": 3
   },
   "file_extension": ".py",
   "mimetype": "text/x-python",
   "name": "python",
   "nbconvert_exporter": "python",
   "pygments_lexer": "ipython3",
   "version": "3.8.10"
  },
  "widgets": {
   "application/vnd.jupyter.widget-state+json": {
    "state": {},
    "version_major": 2,
    "version_minor": 0
   }
  }
 },
 "nbformat": 4,
 "nbformat_minor": 5
}
