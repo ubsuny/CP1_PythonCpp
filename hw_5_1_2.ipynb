{
 "cells": [
  {
   "cell_type": "markdown",
   "id": "39a134ec-0fe7-411c-859e-97a56516aad3",
   "metadata": {},
   "source": [
    "# HW5 \n",
    "## Problem 1\n",
    "We have to  compute the sum of the series :  $f_n =f_{n-1}^2 $ . Lets compute the first few value for this function: \\\n",
    "Given $ f_1 =f_0^2 = 2^2 = 4 $ \\\n",
    "therefore, $f_2 =f_1^2 = 4^2 = 16  $ \\\n",
    "$f_3= f_2^2 = 16^2  = 256 $ ............\n",
    "We can see that for any given number of 'n' the sum is going to be : \n",
    "S = $ f_0^2 + f_1^1 + ........+f_{n-1}^2  $"
   ]
  },
  {
   "cell_type": "markdown",
   "id": "39df4e0b-5e29-4989-92ea-a449c8c8a1b8",
   "metadata": {},
   "source": [
    "Different data typye has different limits. The information about data types  are taken from [Wikipedia/C-data_types](https://en.wikipedia.org/wiki/C_data_types) . \\\n",
    "The examples and codes (which i have modified for my problem)  are taken from [G4G.org](https://www.geeksforgeeks.org/maximum-value-of-int-in-c/)."
   ]
  },
  {
   "cell_type": "markdown",
   "id": "38f3c078-808e-4c46-837e-9537996461ee",
   "metadata": {},
   "source": [
    "# Choosing maximum 'n' for our data types "
   ]
  },
  {
   "cell_type": "markdown",
   "id": "6fbc4ce8-e5df-4fc3-81fc-d3d0f917ab74",
   "metadata": {},
   "source": [
    "For my hardware (**ARM64**) the maximum number can be stored in c++ data types are given below:\\\n",
    "For \"int\" : 2147483647 \\\n",
    "For \"float\":$ 3.40282*10^{38} $  \\\n",
    "and for \"double\":  $1.7 *10^{308} $ .\n",
    "Previously I put wrong name for the data types."
   ]
  },
  {
   "cell_type": "markdown",
   "id": "bc1f908c-8aab-41ac-b726-4cda2182c9fa",
   "metadata": {},
   "source": [
    "I ran (executed) the following code to find out the max supported number for the c++ data types :"
   ]
  },
  {
   "cell_type": "markdown",
   "id": "52bdf5b1-274d-42c0-937a-81b29fa0d497",
   "metadata": {},
   "source": [
    "#include <iostream>\n",
    "   \n",
    "    int main() {\n",
    "    using namespace std;\n",
    "    cout << numeric_limits<int>::max() << endl;\n",
    "    cout << numeric_limits<float>::max() << endl;\n",
    "    cout << numeric_limits<double>::max() << endl;\n",
    "\n",
    "    return 0;\n",
    "}"
   ]
  },
  {
   "cell_type": "markdown",
   "id": "94991fd0-8642-441f-9825-a3b393d9f166",
   "metadata": {},
   "source": [
    "Which showed me the following output in my computer :  \\\n",
    "2147483647   \\\n",
    "3.40282e+38   \\\n",
    "1.79769e+308 \n",
    "![image.png](size.png)"
   ]
  },
  {
   "cell_type": "markdown",
   "id": "9c4b8b3a-a973-42eb-a52c-c9286db246f2",
   "metadata": {},
   "source": [
    "We can see that for our series the sum for any chosen n must not exceed these limits.\n",
    "We can find out the maximum allowed number for our data types as follows : \\\n",
    "For \"int\" : $ S_{max} $ = 2147483647 , thus n (max) would be = 5 ; otherwise the last value of the sum will exceed the max limit \\\n",
    "For \"float\":$ S_{max} $ = 3.40282e+38 , thus n (max) would be n = 7 ; otherwise the last value of the sum  will exceed the max limit \\\n",
    "For \"Double\" : $ S_{max} $ = 1.79769e+308, thus n (max) would be n = 10 ; otherwise the last value of the sum  will exceed the max limit. "
   ]
  },
  {
   "cell_type": "markdown",
   "id": "f9e77950-0224-4a49-a01a-466e773ab602",
   "metadata": {},
   "source": [
    "# Problem 2 \n",
    "## Solve problem 1 with C++\n",
    "We will wrtite 3 different codes for 3 different data types (int, float and double) .\\\n",
    "For the **\"int\"\"** types the codes are given follows:"
   ]
  },
  {
   "cell_type": "markdown",
   "id": "d79250b7-2a9b-4e30-b007-b30d4c5d039b",
   "metadata": {},
   "source": [
    "#include <iostream>\n",
    "\n",
    "using namespace std;\n",
    "\n",
    "int main()\n",
    "\n",
    " { \n",
    "    int n,init_s=2, sum = 0;\n",
    " \n",
    "    cout << \"Please enter the value for n (max 7) : \";\n",
    "    \n",
    "    cin >> n;\n",
    "    \n",
    "\n",
    "\tfor (int i=1; i<n; i++)\n",
    "    \n",
    "   {\n",
    "   \n",
    "    init_s=init_s*init_s;\n",
    "    \n",
    "   sum = sum+init_s;\n",
    "    }\n",
    " \n",
    " cout << \"The sum of the series for n = \" << n << \" is : \" << sum ;\n",
    " \n",
    " return sum;\n",
    "\n",
    "    }\n",
    "\n",
    "\n"
   ]
  },
  {
   "cell_type": "markdown",
   "id": "3ce20c06-8102-470c-8f2a-07d64d70fa07",
   "metadata": {},
   "source": [
    "we save this file as **series_int.cc** in current folder and run the following command to make it excecutable :\n",
    "**g++ series_int.cc -o series_int**  \\\n",
    "than we run the file using  **./series_int** . In my computer the code runs without any issue and its shows the expected result."
   ]
  },
  {
   "cell_type": "markdown",
   "id": "819bd3ab-6736-4043-94a1-9a3d0167ea2b",
   "metadata": {},
   "source": [
    "![image](series_int.png)"
   ]
  },
  {
   "cell_type": "markdown",
   "id": "f8cbccf4-b028-48e8-a46a-e849a384e7da",
   "metadata": {},
   "source": [
    "## For the Float data type I will use the following code :"
   ]
  },
  {
   "cell_type": "markdown",
   "id": "21418045-b8d2-4d71-91e8-d126c1e7ef5b",
   "metadata": {},
   "source": [
    "#include <iostream>\n",
    "    \n",
    "using namespace std;\n",
    "\n",
    "#include <limits> \n",
    "    \n",
    "typedef std::numeric_limits< double > dbl; // Declaring maximum precision\n",
    "\n",
    "int main()\n",
    "\n",
    "{ \n",
    "   float n,init_s=2, sum = 0;\n",
    "    \n",
    "    \n",
    "    cout << \"Please enter the value for n  : \";\n",
    "    \n",
    "    \n",
    "    cin >> n;\n",
    "\n",
    "\tfor (int i=1; i<n; i++)\n",
    "    \n",
    "                      \n",
    "    {\n",
    " \n",
    "  init_s=init_s*init_s;\n",
    " \n",
    "   sum = sum+init_s;\n",
    "\n",
    "  }\n",
    " \n",
    "  cout.precision(dbl::max_digits10); // Making sure to print max precision. \n",
    "                       \n",
    "                       \n",
    " cout << \"The sum of the series for n = \" << n << \" is : \" << sum ;\n",
    " \n",
    " return sum;\n",
    "}\n",
    "\n",
    "\n"
   ]
  },
  {
   "cell_type": "markdown",
   "id": "3d8873cf-1c51-431f-be8a-1262b2e3c47c",
   "metadata": {},
   "source": [
    "![image](float_prec.png)"
   ]
  },
  {
   "cell_type": "markdown",
   "id": "e4de63fc-cd94-4ba6-ad38-72d32b10ba25",
   "metadata": {},
   "source": [
    "we save this file as **series_float.cc** in current folder and run the following command to make it excecutable :\n",
    "**g++ series_int.cc -o series_float**  \\\n",
    "than we run the file using  **./series_float** . In my computer the code runs without any issue and its shows the expected result. \n",
    "## For the double types we wrtie the following code: "
   ]
  },
  {
   "cell_type": "markdown",
   "id": "e797e10e-1ddf-49c7-9681-97e140a661af",
   "metadata": {},
   "source": [
    "#include <iostream>\n",
    "    \n",
    "using namespace std;\n",
    "\n",
    "#include <limits>\n",
    "    \n",
    "typedef std::numeric_ limits< double > dbl; \n",
    "\n",
    "int main()\n",
    "\n",
    "{ \n",
    "   double n,init_s=2, sum = 0; \n",
    "    \n",
    "    cout << \"Please enter the value for n  : \"; \n",
    "    \n",
    "    cin >> n; \n",
    "\n",
    "\t\n",
    "    for (int i=1; i<n; i++) \n",
    "    \n",
    "                       {\n",
    "                       \n",
    "    init_s=init_s*init_s; \n",
    "\n",
    "    sum = sum+init_s; \n",
    "   \n",
    "                       } \n",
    " \n",
    " \n",
    "     cout.precision(dbl::max_digits10); // Making sure to print max precision. \n",
    " \n",
    "     cout << \"The sum of the series for n = \" << n << \" is : \" << sum ; \n",
    " \n",
    " return sum; \\\n",
    "}\n"
   ]
  },
  {
   "cell_type": "markdown",
   "id": "51515890-6537-4ba6-97d8-1822df4d59bf",
   "metadata": {},
   "source": [
    "we save this file as **double_prec.cc** in current folder and run the following command to make it excecutable :\n",
    "**g++ double_prec.cc -o double_prec**  \\\n",
    "than we run the file using  **./double_prec** . The result shown in my terminal is given below :"
   ]
  },
  {
   "cell_type": "markdown",
   "id": "789f5c10-8e7b-4131-8274-251aa3e4498d",
   "metadata": {},
   "source": [
    "![image](double_prec.png)"
   ]
  },
  {
   "cell_type": "markdown",
   "id": "9e4d7d3e-79cb-499e-b747-5ea15fdce861",
   "metadata": {},
   "source": [
    "Therefore , I think my code gave the  correct  result . "
   ]
  },
  {
   "cell_type": "markdown",
   "id": "54450588-97ca-43aa-b3f5-78eba5ccc409",
   "metadata": {},
   "source": [
    "Its not  a big change from my previus attempt , but I think this version will not loose much of precision. "
   ]
  }
 ],
 "metadata": {
  "kernelspec": {
   "display_name": "Python 3 (ipykernel)",
   "language": "python",
   "name": "python3"
  },
  "language_info": {
   "codemirror_mode": {
    "name": "ipython",
    "version": 3
   },
   "file_extension": ".py",
   "mimetype": "text/x-python",
   "name": "python",
   "nbconvert_exporter": "python",
   "pygments_lexer": "ipython3",
   "version": "3.9.5"
  },
  "widgets": {
   "application/vnd.jupyter.widget-state+json": {
    "state": {},
    "version_major": 2,
    "version_minor": 0
   }
  }
 },
 "nbformat": 4,
 "nbformat_minor": 5
}
