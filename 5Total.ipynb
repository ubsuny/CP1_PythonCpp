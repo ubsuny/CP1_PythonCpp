{
 "cells": [
  {
   "cell_type": "markdown",
   "id": "3b2e2c45-81c3-49e2-a6e4-b85d714df02e",
   "metadata": {},
   "source": [
    "# Homework 5\n",
    "## Austin Marga"
   ]
  },
  {
   "cell_type": "markdown",
   "id": "3a34c822-6835-47ad-bc2f-5f759d7649ba",
   "metadata": {},
   "source": [
    "### Problem 1:\n",
    "Suppose you need to compute the series:\n",
    "$$f_n = f^2_{n-1}$$\n",
    "Given that $f_0 = 2$, what is the maximum $n$ that can be stored in three C++ data types?"
   ]
  },
  {
   "cell_type": "markdown",
   "id": "2c7bfe8c-0be4-42b7-b509-1c10cefd924c",
   "metadata": {},
   "source": [
    "Let's pick the following:\n",
    "- unsigned int -> Min is 0 -- Max is 65,535\n",
    "- int          -> Min is -32,768 -- Max is 32,768\n",
    "- long int     -> Min is -2,147,483,648 -- Max is 2,147,483,647"
   ]
  },
  {
   "cell_type": "markdown",
   "id": "b3e505ed-55ae-4d4d-ba0e-d096ac2f6bb4",
   "metadata": {},
   "source": [
    "Let's list the first few values of $n$\n",
    "- $f_0 = 2$\n",
    "- $f_1 = 4$\n",
    "- $f_2 = 16$\n",
    "- $f_3 = 256$\n",
    "- $f_4 = 65,536$\n",
    "- $f_5 = 4,294,967,296$"
   ]
  },
  {
   "cell_type": "markdown",
   "id": "1279b4a4-971e-4353-91d8-f4f76dff7bd3",
   "metadata": {},
   "source": [
    "From this, we can see that:\n",
    "- For unsigned int: $n = 3$\n",
    "- For int: $n = 3$\n",
    "- For long int: $n = 4$"
   ]
  },
  {
   "cell_type": "markdown",
   "id": "68702d57-6b7b-4640-be74-24bf7b0e74e3",
   "metadata": {},
   "source": [
    "### Problem 2"
   ]
  },
  {
   "cell_type": "markdown",
   "id": "8919fefa-c425-4662-9259-ee7348ea8bbe",
   "metadata": {},
   "source": [
    "First, let's attempt to write the first method in Python for clarity."
   ]
  },
  {
   "cell_type": "code",
   "execution_count": 1,
   "id": "20e1802e-b514-4a2d-9c92-3a2cd0db6bb4",
   "metadata": {},
   "outputs": [],
   "source": [
    "def findn(num):\n",
    "    \"\"\"\n",
    "    This method takes some input number and returns the maximum n value that can be stored.\n",
    "    num is intended to be the maximum size of a C++ data type.\n",
    "    Input Argument: num must be a number.\n",
    "    Returns: n is a number.\n",
    "    \n",
    "    \"\"\"\n",
    "    # The initial conditions are n = 0 and $f0  = 2$\n",
    "    n = 0 \n",
    "    f0 = 2\n",
    "    # We want to continue to compute the next step in the series \n",
    "    # until the next step exceeds the input.\n",
    "    while (f0**2 < num):\n",
    "        f0 = f0**2\n",
    "        n += 1\n",
    "    return n"
   ]
  },
  {
   "cell_type": "markdown",
   "id": "dbf86b0c-4934-4d17-9e08-2143f0b6d378",
   "metadata": {},
   "source": [
    "Let's test our cases for unsigned int, int, and long int"
   ]
  },
  {
   "cell_type": "code",
   "execution_count": 2,
   "id": "c143172b-3878-48dc-816f-4399ba174e66",
   "metadata": {},
   "outputs": [
    {
     "name": "stdout",
     "output_type": "stream",
     "text": [
      "Unsigned_int_n should be 3: and it is 3\n",
      "int_n should be 3: and it is 3\n",
      "long_int_n should be 4: and it is 4\n"
     ]
    }
   ],
   "source": [
    "# Using the three data types as in Problem 1.\n",
    "unsigned_int_n = findn(65535)\n",
    "int_n = findn(32768)\n",
    "long_int_n = findn(2147483647)\n",
    "\n",
    "print(\"Unsigned_int_n should be 3: and it is\" + \" \" + str(unsigned_int_n))\n",
    "print(\"int_n should be 3: and it is\" + \" \" + str(int_n))\n",
    "print(\"long_int_n should be 4: and it is\" + \" \" + str(long_int_n))"
   ]
  },
  {
   "cell_type": "markdown",
   "id": "63edaad6-8e42-4eb2-89ce-c71ce2a513e5",
   "metadata": {},
   "source": [
    "In `HW5.c++`, we have the methods that cover both parts of Problem 2."
   ]
  },
  {
   "cell_type": "code",
   "execution_count": 3,
   "id": "73613daf-27ec-4573-ab69-50d079342f5d",
   "metadata": {},
   "outputs": [
    {
     "name": "stdout",
     "output_type": "stream",
     "text": [
      "#include <cmath>\n",
      "#include<iostream>\n",
      "using namespace std;\n",
      "/* \n",
      "This line \"using namespace std;\" is needed for the print statement. Found from \n",
      "https://stackoverflow.com/questions/15185801/cout-was-not-declared-in-this-scope\n",
      "*/\n",
      "\n",
      "extern \"C\" int findn(int num){\n",
      "\n",
      "    /*\n",
      "    This method takes some input number and returns the maximum n value that can be stored.\n",
      "    num is intended to be the maximum size of a C++ data type.\n",
      "    \n",
      "    Input Argument: num must be a number.\n",
      "    Returns: n is a number.\n",
      "    */\n",
      "    int n = 0;\n",
      "    int f0 = 2;\n",
      "    while (pow(f0,2) < num) { \n",
      "        f0 = pow(f0,2);\n",
      "        n = n + 1;\n",
      "    }\n",
      "    return n;\n",
      "}\n",
      "int unsigned_int_n = findn(65535);\n",
      "int int_n = findn(32768);\n",
      "int long_int_n = findn(2147483647);\n",
      "\n",
      "int Print() { \n",
      "    /* \n",
      "    This is how you could do cases in C++, I will do them in Python instead to demonstrate\n",
      "    how to use methods from a (shared) library as in Problem 3.\n",
      "    */\n",
      "    \n",
      "    cout << \"For the cases of unsigned int, int, and long int\" <<endl;\n",
      "    cout << \"For unsigned int, n should be 3: n = \" <<  unsigned_int_n << endl;\n",
      "    cout << \"For int, n should be 3: n = \" <<  int_n << endl;\n",
      "    cout << \"For long int, n should be 4: n = \" <<  long_int_n << endl;\n",
      "    return 0;\n",
      "}\n",
      "\n",
      "extern \"C\" int value_at_n(int num, int n){\n",
      "        /*\n",
      "    This method takes some input number \"num\" and the step in the series\n",
      "    and returns the value of the series for at step n.\n",
      "    \n",
      "    num is intended to be the maximum size of a C++ data type.\n",
      "    If the value at the given n value is larger than num (the size of the type),\n",
      "    it will return 0.\n",
      "    \n",
      "    Input Argument: num must be a number. n must be a number.\n",
      "    Returns: value is a number.\n",
      "    */\n",
      "    int f0 = 2;\n",
      "    int value = pow(f0,pow(2,n));\n",
      "    if (value > num){\n",
      "        return 0;\n",
      "    }\n",
      "    else{\n",
      "        return value;\n",
      "    }\n",
      "}"
     ]
    }
   ],
   "source": [
    "!cat ./HW5.c++"
   ]
  },
  {
   "cell_type": "markdown",
   "id": "c194cf61-7791-44f9-ab2b-508d0dce66e8",
   "metadata": {},
   "source": [
    "### Problem 3\n",
    "Here, I use `ctypes` to generate a shared library from the C++ file that I used for Problem 2 - `HW5.c++` <br />\n",
    "The specific lines of code to do this was found from the Notebook found in the CompPhys folder `ctypes_functions.ipynb`."
   ]
  },
  {
   "cell_type": "markdown",
   "id": "54c14776-a894-49d4-8222-c157850924af",
   "metadata": {},
   "source": [
    "First, we have to generate a `.o` file, which is the machine code from the compiling phase."
   ]
  },
  {
   "cell_type": "code",
   "execution_count": 4,
   "id": "02d18de7-3f00-418d-81f3-60bc1d3deacb",
   "metadata": {},
   "outputs": [],
   "source": [
    "!gcc  -fPIC -c ./HW5.c++ -o ./HW5.o -std=c++11"
   ]
  },
  {
   "cell_type": "markdown",
   "id": "c6e58e8a-89fa-4b9c-8e0e-cb1193fb5480",
   "metadata": {},
   "source": [
    "Next, we turn it into a shared `.so` file."
   ]
  },
  {
   "cell_type": "code",
   "execution_count": 5,
   "id": "ad8dde22-8c9a-4f05-9bbb-557b52c604ff",
   "metadata": {},
   "outputs": [],
   "source": [
    "!gcc -shared ./HW5.o -o ./HW5.so -lstdc++"
   ]
  },
  {
   "cell_type": "markdown",
   "id": "fd4e7fe6-f49e-4eee-a310-25713350d627",
   "metadata": {},
   "source": [
    "Using the `ctypes` library, we can load our libary (our shared file) to use the methods inside."
   ]
  },
  {
   "cell_type": "code",
   "execution_count": 6,
   "id": "b1178da4-6cf4-4be2-9dcb-ed00104fde74",
   "metadata": {},
   "outputs": [],
   "source": [
    "from ctypes import *"
   ]
  },
  {
   "cell_type": "code",
   "execution_count": 7,
   "id": "2e456a97-a568-4170-a4a3-f363d402e060",
   "metadata": {},
   "outputs": [],
   "source": [
    "func = cdll.LoadLibrary(\"./HW5.so\")"
   ]
  },
  {
   "cell_type": "markdown",
   "id": "55927b82-15a4-4d5e-ac41-d4dfdb1c0513",
   "metadata": {},
   "source": [
    "Now, let's make sure the test cases we have using the C++ method work correctly as in the case for Python."
   ]
  },
  {
   "cell_type": "code",
   "execution_count": 8,
   "id": "92e549ec-5124-4a0b-8325-c6bea26a3226",
   "metadata": {},
   "outputs": [
    {
     "name": "stdout",
     "output_type": "stream",
     "text": [
      "Unsigned_int_n should be 3: and it is 3\n",
      "int_n should be 3: and it is 3\n",
      "long_int_n should be 4: and it is 4\n"
     ]
    }
   ],
   "source": [
    "unsigned_int_n_c = func.findn(65535)\n",
    "int_n_c = func.findn(32767)\n",
    "long_int_n_c = func.findn(2147483647)\n",
    "\n",
    "print(\"Unsigned_int_n should be 3: and it is\" + \" \" + str(unsigned_int_n_c))\n",
    "print(\"int_n should be 3: and it is\" + \" \" + str(int_n_c))\n",
    "print(\"long_int_n should be 4: and it is\" + \" \" + str(long_int_n_c))"
   ]
  },
  {
   "cell_type": "markdown",
   "id": "deee928e-3352-47ba-98bb-ef5e6bcb12e6",
   "metadata": {},
   "source": [
    "# Hooray! It worked!"
   ]
  },
  {
   "cell_type": "markdown",
   "id": "45de1143-d1ed-42ad-a6a0-d1559e01c564",
   "metadata": {},
   "source": [
    "Now, to test the second method, `value_at_n` <br />\n",
    "This method returns the value of the recursive function at a specific step. We should test it for when $n$ is within the size of the type and when it is not."
   ]
  },
  {
   "cell_type": "code",
   "execution_count": 9,
   "id": "d0ab89d8-1d60-48bd-b3e5-369340a54192",
   "metadata": {},
   "outputs": [
    {
     "name": "stdout",
     "output_type": "stream",
     "text": [
      "For n=3 given an unsigned int, we expect to get the value of 256, and we get 256\n"
     ]
    }
   ],
   "source": [
    "Step_3 = func.value_at_n(65535,3)\n",
    "print(\"For n=3 given an unsigned int, we expect to get the value of 256, and we get \" + str(Step_3))"
   ]
  },
  {
   "cell_type": "code",
   "execution_count": 10,
   "id": "8dbde637-8ec4-4f04-b293-fdedce7ccb5f",
   "metadata": {},
   "outputs": [
    {
     "name": "stdout",
     "output_type": "stream",
     "text": [
      "n = 4 is out of bounds for this type.\n",
      "For n = 4 given an unsigned int, we expect to get the value of 0, and we get 0\n"
     ]
    }
   ],
   "source": [
    "Step_4 = func.value_at_n(65535,4)\n",
    "print(\"n = 4 is out of bounds for this type.\")\n",
    "print(\"For n = 4 given an unsigned int, we expect to get the value of 0, and we get \" + str(Step_4))"
   ]
  },
  {
   "cell_type": "markdown",
   "id": "17d64900-52c5-42d0-ac18-011df1d9320e",
   "metadata": {},
   "source": [
    "# Double Hooray! They both worked!"
   ]
  }
 ],
 "metadata": {
  "kernelspec": {
   "display_name": "Python 3 (ipykernel)",
   "language": "python",
   "name": "python3"
  },
  "language_info": {
   "codemirror_mode": {
    "name": "ipython",
    "version": 3
   },
   "file_extension": ".py",
   "mimetype": "text/x-python",
   "name": "python",
   "nbconvert_exporter": "python",
   "pygments_lexer": "ipython3",
   "version": "3.9.5"
  }
 },
 "nbformat": 4,
 "nbformat_minor": 5
}
