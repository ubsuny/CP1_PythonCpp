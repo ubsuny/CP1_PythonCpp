{
 "cells": [
  {
   "cell_type": "markdown",
   "id": "5185984f-8116-40db-ba3d-f16debadb8db",
   "metadata": {},
   "source": [
    "# HW 5"
   ]
  },
  {
   "cell_type": "markdown",
   "id": "ee1cd9cc-ffb2-48c5-8390-d5315d46b326",
   "metadata": {},
   "source": [
    "## By Tanmayee Gujar"
   ]
  },
  {
   "cell_type": "markdown",
   "id": "f5155f14-fb6f-4f01-802d-d612c6d7d198",
   "metadata": {},
   "source": [
    "### Problem 1:"
   ]
  },
  {
   "cell_type": "markdown",
   "id": "3d9d40de-fda7-45d6-aed6-a33a1e75b83d",
   "metadata": {},
   "source": [
    "For the given series, $f_n = f_{n-1}^2$: $f_0 = 2$, $f_1 = 4$, $f_2 = 16$, $f_3 = 256$, $f_4 = 65536$, $f_5 = 4294967296$\n",
    "\n",
    "\n"
   ]
  },
  {
   "cell_type": "markdown",
   "id": "f9e4e3cf-2def-4eed-8a67-268d3ca587c9",
   "metadata": {},
   "source": [
    "Therefore, we see that for c_int: **n = 3** (-32,768 to 32,767)"
   ]
  },
  {
   "cell_type": "markdown",
   "id": "401f2b6e-a66f-423f-87c9-35b57a0587fe",
   "metadata": {},
   "source": [
    "for c_uint: **n = 3** (0 to 65,535)"
   ]
  },
  {
   "cell_type": "markdown",
   "id": "1050ea3f-e615-4344-8d3a-79d0ad55bc05",
   "metadata": {},
   "source": [
    "for c_long: **n = 4** (-2,147,483,648 to 2,147,483,647) "
   ]
  },
  {
   "cell_type": "markdown",
   "id": "d53c64f6-abfe-484b-9d76-281ad6398c49",
   "metadata": {},
   "source": [
    "source : https://www.tutorialspoint.com/cprogramming/c_data_types.htm"
   ]
  },
  {
   "cell_type": "markdown",
   "id": "407bd77a-c1bc-4125-8674-908229098fe8",
   "metadata": {},
   "source": [
    "### Problem 2:"
   ]
  },
  {
   "cell_type": "code",
   "execution_count": 16,
   "id": "3d45d3f8-7162-47a7-b8b7-2fc755d46b6c",
   "metadata": {},
   "outputs": [
    {
     "name": "stdout",
     "output_type": "stream",
     "text": [
      "#include <cmath>\n",
      "#include<iostream>\n",
      "\n",
      "extern \"C\" int func(int x)\n",
      "    {\n",
      "     int f0 = 2;\n",
      "     int ans = pow(f0,pow(2,x));\n",
      "     return ans;\n",
      "    }\n",
      "\n"
     ]
    }
   ],
   "source": [
    "!cat ./func.c++"
   ]
  },
  {
   "cell_type": "markdown",
   "id": "249c633a-73ee-4cd0-9013-c151af937cfb",
   "metadata": {},
   "source": [
    "### Problem 3:"
   ]
  },
  {
   "cell_type": "markdown",
   "id": "ec89eb9f-1cd5-42c0-8004-4cd80a819396",
   "metadata": {},
   "source": [
    "We create a shared file using the below code that allows us to use it in a Jupytre "
   ]
  },
  {
   "cell_type": "code",
   "execution_count": 8,
   "id": "e526712d-9c1b-4296-be6d-1c487ac1384d",
   "metadata": {},
   "outputs": [],
   "source": [
    "!gcc  -fPIC -c ./func.c++ -o ./func.o -std=c++11"
   ]
  },
  {
   "cell_type": "code",
   "execution_count": 9,
   "id": "02c1321e-2aad-45de-9ec7-a87036daee34",
   "metadata": {},
   "outputs": [],
   "source": [
    "!gcc -shared ./func.o -o ./func.so -lstdc++"
   ]
  },
  {
   "cell_type": "code",
   "execution_count": 10,
   "id": "0b987668-423d-47aa-bd65-ca8e78df08ef",
   "metadata": {},
   "outputs": [
    {
     "name": "stdout",
     "output_type": "stream",
     "text": [
      "-rw-r--r-- 1 compphys compphys  144 Nov  2 03:42 ./func.c++\n",
      "-rw-r--r-- 1 compphys compphys 2.6K Nov  2 03:42 ./func.o\n",
      "-rwxr-xr-x 1 compphys compphys  16K Nov  2 03:43 ./func.so\n"
     ]
    }
   ],
   "source": [
    "!ls -lah ./func.*"
   ]
  },
  {
   "cell_type": "code",
   "execution_count": 11,
   "id": "ae0180f5-84b2-4465-85f3-8421c5f50469",
   "metadata": {},
   "outputs": [],
   "source": [
    "from ctypes import *"
   ]
  },
  {
   "cell_type": "code",
   "execution_count": 12,
   "id": "9b349b6e-4f6e-4489-b2d0-f50f837bedf0",
   "metadata": {},
   "outputs": [],
   "source": [
    "my_func = cdll.LoadLibrary(\"./func.so\")"
   ]
  },
  {
   "cell_type": "code",
   "execution_count": 13,
   "id": "89d25bda-f982-4468-a48a-625671a75658",
   "metadata": {},
   "outputs": [
    {
     "data": {
      "text/plain": [
       "256"
      ]
     },
     "execution_count": 13,
     "metadata": {},
     "output_type": "execute_result"
    }
   ],
   "source": [
    "my_func.func(c_int(3))"
   ]
  },
  {
   "cell_type": "code",
   "execution_count": 14,
   "id": "76566c1a-80d7-474f-b341-f34808d9a25c",
   "metadata": {},
   "outputs": [
    {
     "data": {
      "text/plain": [
       "256"
      ]
     },
     "execution_count": 14,
     "metadata": {},
     "output_type": "execute_result"
    }
   ],
   "source": [
    "my_func.func(c_uint(3))"
   ]
  },
  {
   "cell_type": "code",
   "execution_count": 15,
   "id": "c094a8dc-9e97-420f-9adc-094a60b7bf67",
   "metadata": {},
   "outputs": [
    {
     "data": {
      "text/plain": [
       "65536"
      ]
     },
     "execution_count": 15,
     "metadata": {},
     "output_type": "execute_result"
    }
   ],
   "source": [
    "my_func.func(c_long(4))"
   ]
  },
  {
   "cell_type": "code",
   "execution_count": 17,
   "id": "08e8e504-1460-4c23-9a77-e9d043c2cb0f",
   "metadata": {},
   "outputs": [
    {
     "data": {
      "text/plain": [
       "-2147483648"
      ]
     },
     "execution_count": 17,
     "metadata": {},
     "output_type": "execute_result"
    }
   ],
   "source": [
    "my_func.func(c_int(100))"
   ]
  },
  {
   "cell_type": "markdown",
   "id": "857e0687-6923-47f8-bed1-c05de315929a",
   "metadata": {},
   "source": [
    "As expected, we see the correct results for the appropriate c data types (the first 3 examples) and get an incorrect answer for the out of bounds input for the last example."
   ]
  }
 ],
 "metadata": {
  "kernelspec": {
   "display_name": "Python 3 (ipykernel)",
   "language": "python",
   "name": "python3"
  },
  "language_info": {
   "codemirror_mode": {
    "name": "ipython",
    "version": 3
   },
   "file_extension": ".py",
   "mimetype": "text/x-python",
   "name": "python",
   "nbconvert_exporter": "python",
   "pygments_lexer": "ipython3",
   "version": "3.9.5"
  }
 },
 "nbformat": 4,
 "nbformat_minor": 5
}
