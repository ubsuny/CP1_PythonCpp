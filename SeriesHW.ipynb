{
 "cells": [
  {
   "cell_type": "markdown",
   "id": "4967c118-61ed-42c2-9af2-b87f9a13cd89",
   "metadata": {},
   "source": [
    "# HW 5\n",
    "\n",
    "## Luke Meiler\n",
    "\n",
    "## Problem 1\n",
    "\n",
    "We are given the series $f_n = f_{n-1}^2$ to implement in C++. However, before implementing it we are asked to select three C++ data types and determine the maximum n that the selected data type can store. \n",
    "\n",
    "We will choose the int, long int, and float data types. In order to determine the maximum n that can be achieved, we look to the maximum value that these types can attain. These are as follows: 32,767, 65,535, and 2,147,483,647 for int, unsigned int, and long int, respectively. This means that we simple need to determine how many times we need to square the number 2 before it surpases each of these numbers.\n",
    "\n",
    "Using a regular scientific calculator, one can see that an int data type can store up to $n = 3$. The zeroth element is given as 2, squaring this gives the first element as 4, the second as 16, the third as 256, and the fourth would be 65,536, but this is outside of the scope of an int. For our second data type, the unsigned int, the overflow cap is 65,535. This would be able to store up to $n = 3$ by this same logic. For our third data type, the long int, the overflow cap is 2,147,483,647, meaning it could store up to $n = 4$."
   ]
  },
  {
   "cell_type": "markdown",
   "id": "c45c2756-39c6-4dd6-8eea-afc231df8a39",
   "metadata": {},
   "source": [
    "## Problem 2\n",
    "\n",
    "For the second problem, we need to actually implement our solution to problem one in C++. Secondly, we need to write a method that will return the value of the variable at each step of the series.\n",
    "\n",
    "I personally found it easier to write the function in python first, and then convert it to C++. Found below are three functions: the python implementation of the first part of the problem, the C++ implementation of the first part of the problem, and the C++ implementation for the second part of the problem.\n",
    "\n",
    "Each of these functions takes an integer for the maximum value that the data type we are interested in can take. These were listed earlier in the notebook. This means that we can use these functions for any data type as long as we know what the maximum value that the data type can take is.\n",
    "\n",
    "For the first part of the problem, the function will return an integer representing the maximum $n$ value. For the second part of the problem, the function will return the value of the series at a given step.\n",
    "\n",
    "Each one of these functions is repeated using the long int data types as well."
   ]
  },
  {
   "cell_type": "code",
   "execution_count": 1,
   "id": "b719b933-5872-4789-812d-a6e6632f20f4",
   "metadata": {},
   "outputs": [
    {
     "name": "stdout",
     "output_type": "stream",
     "text": [
      "// def findN(overflow):\n",
      "//     n = 0\n",
      "//     fN = 2\n",
      "//     while(fN**2 < overflow):\n",
      "//         fN = fN**2\n",
      "//         n += 1\n",
      "//         print(fN,n)\n",
      "//     return n\n",
      "\n",
      "#include <cmath>\n",
      "#include <list>\n",
      "\n",
      "extern \"C\" int findN(int overflow) {\n",
      "    int n = 0;\n",
      "    int fN = 2;\n",
      "    while (pow(fN,2) < overflow) {\n",
      "        fN = pow(fN, 2);\n",
      "        n = n + 1;\n",
      "    }\n",
      "    return n;\n",
      "}\n",
      "\n",
      "extern \"C\" int findNStep(int overflow, int step) {\n",
      "    int n = 0;\n",
      "    int fN = 2;\n",
      "    int count = 0;\n",
      "    while (count < step) {\n",
      "        count = count +  1;\n",
      "        fN = pow(fN, 2);\n",
      "    }\n",
      "    if (fN > overflow) {\n",
      "        return 0;\n",
      "    }\n",
      "    else {\n",
      "        return fN;\n",
      "    }\n",
      "}\n",
      "\n",
      "extern \"C\" long int findNLong(long int overflow) {\n",
      "    long int n = 0;\n",
      "    long int fN = 2;\n",
      "    while (pow(fN,2) < overflow) {\n",
      "        fN = pow(fN, 2);\n",
      "        n = n + 1;\n",
      "    }\n",
      "    return n;\n",
      "}\n",
      "\n",
      "extern \"C\" long int findNStepLong(long int overflow, long int step) {\n",
      "    long int n = 0;\n",
      "    long int fN = 2;\n",
      "    long int count = 0;\n",
      "    while (count < step) {\n",
      "        count = count +  1;\n",
      "        fN = pow(fN, 2);\n",
      "    }\n",
      "    if (fN > overflow) {\n",
      "        return 0;\n",
      "    }\n",
      "    else {\n",
      "        return fN;\n",
      "    }\n",
      "}"
     ]
    }
   ],
   "source": [
    "!cat ./Series.c++"
   ]
  },
  {
   "cell_type": "markdown",
   "id": "3043083c-4f4b-43da-a227-2aad78446e4f",
   "metadata": {},
   "source": [
    "## Problem 3\n",
    "\n",
    "### Generating the Library\n",
    "\n",
    "For the third problem, we use ctypes to generate a shared library of problem 2, import this library, and run the code in this notebook to see if it works.\n",
    "\n",
    "Beginning with generating the library, we use some code that was mentioned in class to generate the Series library. Immediately following this, the second command is run to generate the \".so\" shared library. Finally, we display the three files necessary for this library that we've made: the C++ file, the library, and the shared library."
   ]
  },
  {
   "cell_type": "code",
   "execution_count": 2,
   "id": "a1d159ce-ce5b-49db-aab3-061e1f4d9cba",
   "metadata": {},
   "outputs": [],
   "source": [
    "!gcc  -fPIC -c ./Series.c++ -o ./Series.o -std=c++11"
   ]
  },
  {
   "cell_type": "code",
   "execution_count": 3,
   "id": "8eb05814-9084-4140-97d8-becb57e374d5",
   "metadata": {},
   "outputs": [],
   "source": [
    "!gcc -shared ./Series.o -o ./Series.so -lstdc++"
   ]
  },
  {
   "cell_type": "code",
   "execution_count": 4,
   "id": "29ac5ed3-6b71-4bfa-8c31-3ff518bd427c",
   "metadata": {},
   "outputs": [
    {
     "name": "stdout",
     "output_type": "stream",
     "text": [
      "-rw-r--r-- 1 compphys compphys 1.2K Nov  1 02:51 ./Series.c++\n",
      "-rw-r--r-- 1 compphys compphys 2.6K Nov  1 02:51 ./Series.o\n",
      "-rwxr-xr-x 1 compphys compphys  16K Nov  1 02:51 ./Series.so\n"
     ]
    }
   ],
   "source": [
    "!ls -lah ./Series.*"
   ]
  },
  {
   "cell_type": "markdown",
   "id": "18b3bd42-4f77-46a9-8ff8-8480441715ee",
   "metadata": {},
   "source": [
    "### Importing and Running the Library\n",
    "\n",
    "Now that the shared library has been made, we can now import it and ctypes to actually run the C++ code that was written before. First, we import ctypes and the shared library that was just made."
   ]
  },
  {
   "cell_type": "code",
   "execution_count": 5,
   "id": "305e4bda-622c-421a-ac8b-d7dc981e4704",
   "metadata": {},
   "outputs": [],
   "source": [
    "from ctypes import *"
   ]
  },
  {
   "cell_type": "code",
   "execution_count": 6,
   "id": "b0eedd80-832c-4cfd-bacc-f12726ba2c21",
   "metadata": {},
   "outputs": [],
   "source": [
    "series = cdll.LoadLibrary(\"./Series.so\")"
   ]
  },
  {
   "cell_type": "markdown",
   "id": "4327f13f-917c-4097-9297-7ec598ff1367",
   "metadata": {},
   "source": [
    "Now we can run the code through a number of tests to ensure that it works correctly. We selected the int, long in, and float data types before, so we can check these now. Int has a maximum value of 32,767, long int has a maximum value of 65,535, and long int has a maximum value of 2,147,483,647."
   ]
  },
  {
   "cell_type": "code",
   "execution_count": 7,
   "id": "f36745fb-28b1-4c05-bd0f-3cbcfd1e646c",
   "metadata": {},
   "outputs": [
    {
     "data": {
      "text/plain": [
       "3"
      ]
     },
     "execution_count": 7,
     "metadata": {},
     "output_type": "execute_result"
    }
   ],
   "source": [
    "series.findN(32767)"
   ]
  },
  {
   "cell_type": "code",
   "execution_count": 8,
   "id": "217d4b61-693b-4326-9bf5-95488fe6bda9",
   "metadata": {},
   "outputs": [
    {
     "data": {
      "text/plain": [
       "3"
      ]
     },
     "execution_count": 8,
     "metadata": {},
     "output_type": "execute_result"
    }
   ],
   "source": [
    "series.findN(65535)"
   ]
  },
  {
   "cell_type": "code",
   "execution_count": 9,
   "id": "b33211c8-1d77-4900-907e-3edae89a5c0d",
   "metadata": {},
   "outputs": [
    {
     "data": {
      "text/plain": [
       "4"
      ]
     },
     "execution_count": 9,
     "metadata": {},
     "output_type": "execute_result"
    }
   ],
   "source": [
    "series.findN(214748347)"
   ]
  },
  {
   "cell_type": "markdown",
   "id": "faffb21c-4c75-4e24-9bb9-1071fe24cfbe",
   "metadata": {},
   "source": [
    "As we can see, these return the $n$ value that we want for these three cases. Next, we can see if the implementation to return the specific value of the series at a given step is functional. For instance, this first example is taking an unsigned int and asking for the second value in the series. "
   ]
  },
  {
   "cell_type": "code",
   "execution_count": 10,
   "id": "b6cff94c-ba16-4fc6-90d3-beac678aefd6",
   "metadata": {},
   "outputs": [
    {
     "data": {
      "text/plain": [
       "16"
      ]
     },
     "execution_count": 10,
     "metadata": {},
     "output_type": "execute_result"
    }
   ],
   "source": [
    "series.findNStep(65535, 2)"
   ]
  },
  {
   "cell_type": "markdown",
   "id": "7ac00820-5306-4482-b033-6dba13fa6f05",
   "metadata": {},
   "source": [
    "We correctly get 16, $((2^2)^2)$. Previously, we saw that unsigned ints can only go 3 steps in the series, so if we input a 4 we should get the overflow value of 0 encoded into the function."
   ]
  },
  {
   "cell_type": "code",
   "execution_count": 11,
   "id": "01397ad9-0f3b-47ec-b98a-1284af398ef3",
   "metadata": {},
   "outputs": [
    {
     "data": {
      "text/plain": [
       "0"
      ]
     },
     "execution_count": 11,
     "metadata": {},
     "output_type": "execute_result"
    }
   ],
   "source": [
    "series.findNStep(65535, 4)"
   ]
  },
  {
   "cell_type": "markdown",
   "id": "ddb553d0-0f53-43e9-bbec-e013b42edf84",
   "metadata": {},
   "source": [
    "We see here that the correct value was returned. For the sake of thoroughness, all three data types will be shown to correctly function in this way. This works as intended since the C++ code was compiled into python and now works exactly as it would in C++."
   ]
  },
  {
   "cell_type": "code",
   "execution_count": 12,
   "id": "d5d246d5-b554-4858-be40-b5dcc0225ddf",
   "metadata": {},
   "outputs": [
    {
     "data": {
      "text/plain": [
       "4"
      ]
     },
     "execution_count": 12,
     "metadata": {},
     "output_type": "execute_result"
    }
   ],
   "source": [
    "series.findNStep(32767, 1)"
   ]
  },
  {
   "cell_type": "code",
   "execution_count": 13,
   "id": "618bec58-fa2b-4a1e-86e5-815cab8894e1",
   "metadata": {},
   "outputs": [
    {
     "data": {
      "text/plain": [
       "0"
      ]
     },
     "execution_count": 13,
     "metadata": {},
     "output_type": "execute_result"
    }
   ],
   "source": [
    "series.findNStep(32767, 4)"
   ]
  },
  {
   "cell_type": "code",
   "execution_count": 14,
   "id": "b471f8cc-a5ba-403e-bc13-4701ac5e290c",
   "metadata": {},
   "outputs": [
    {
     "data": {
      "text/plain": [
       "65536"
      ]
     },
     "execution_count": 14,
     "metadata": {},
     "output_type": "execute_result"
    }
   ],
   "source": [
    "series.findNStep(214748347, 4)"
   ]
  },
  {
   "cell_type": "code",
   "execution_count": 15,
   "id": "a368955b-2acf-46bf-86f0-5160470da43c",
   "metadata": {},
   "outputs": [
    {
     "data": {
      "text/plain": [
       "0"
      ]
     },
     "execution_count": 15,
     "metadata": {},
     "output_type": "execute_result"
    }
   ],
   "source": [
    "series.findNStepLong(214748347, 5)"
   ]
  }
 ],
 "metadata": {
  "kernelspec": {
   "display_name": "Python 3 (ipykernel)",
   "language": "python",
   "name": "python3"
  },
  "language_info": {
   "codemirror_mode": {
    "name": "ipython",
    "version": 3
   },
   "file_extension": ".py",
   "mimetype": "text/x-python",
   "name": "python",
   "nbconvert_exporter": "python",
   "pygments_lexer": "ipython3",
   "version": "3.9.5"
  }
 },
 "nbformat": 4,
 "nbformat_minor": 5
}
