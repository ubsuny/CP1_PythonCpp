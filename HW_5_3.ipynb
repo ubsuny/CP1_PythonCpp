{
 "cells": [
  {
   "cell_type": "markdown",
   "metadata": {},
   "source": [
    "## Problem 3\n",
    "I will create a header file and rewrite all sums (for Int, long int, float ) in this file. For some reason double datatype did not work so i changed to long int type."
   ]
  },
  {
   "cell_type": "markdown",
   "metadata": {},
   "source": [
    "I will create a new file calle series_cpp "
   ]
  },
  {
   "cell_type": "code",
   "execution_count": 2,
   "metadata": {
    "colab": {
     "base_uri": "https://localhost:8080/"
    },
    "id": "TZYnIggo6p8D",
    "outputId": "d2a5a6ae-c2aa-458c-9e30-0748795a691c"
   },
   "outputs": [
    {
     "name": "stdout",
     "output_type": "stream",
     "text": [
      "Overwriting series_cpp.c++\n"
     ]
    }
   ],
   "source": [
    "%%writefile series_cpp.c++\n",
    "\n",
    "#include<iostream> \n",
    " \n",
    "extern \"C\" int int_func(int n) \n",
    "  { \n",
    "    int init_s=2;\n",
    "    int sum = 0;\n",
    "    for (int i=1; i<n; i++)\n",
    "      {\n",
    "        init_s=init_s*init_s;\n",
    "        sum = sum+init_s;\n",
    "      }\n",
    "    return sum;\n",
    "  } \n",
    "\n",
    "extern \"C\" long int long_int_func(int n) \n",
    "  { \n",
    "    long int init_s=2;\n",
    "    long int sum = 0;\n",
    "    for (int i=1; i<n; i++)\n",
    "      {\n",
    "        init_s=init_s*init_s;\n",
    "        sum = sum+init_s;\n",
    "      }\n",
    "    return sum;\n",
    "  } \n",
    "\n",
    "extern \"C\" float float_func(int n) \n",
    "  { \n",
    "    float init_s=2.0;\n",
    "    float sum = 0;\n",
    "    for (int i=1; i<n; i++)\n",
    "      {\n",
    "        init_s=init_s*init_s;\n",
    "        sum = sum+init_s;\n",
    "      }\n",
    "    return sum;\n",
    "  } "
   ]
  },
  {
   "cell_type": "markdown",
   "metadata": {},
   "source": [
    "Ii will run the following command to load cpp file "
   ]
  },
  {
   "cell_type": "code",
   "execution_count": 4,
   "metadata": {
    "colab": {
     "base_uri": "https://localhost:8080/"
    },
    "id": "ex9tLEOP7J3s",
    "outputId": "0046dc6a-3256-4d40-9fc7-3f15a9132002"
   },
   "outputs": [
    {
     "name": "stdout",
     "output_type": "stream",
     "text": [
      "\n",
      "#include<iostream> \n",
      " \n",
      "extern \"C\" int int_func(int n) \n",
      "  { \n",
      "    int init_s=2;\n",
      "    int sum = 0;\n",
      "    for (int i=1; i<n; i++)\n",
      "      {\n",
      "        init_s=init_s*init_s;\n",
      "        sum = sum+init_s;\n",
      "      }\n",
      "    return sum;\n",
      "  } \n",
      "\n",
      "extern \"C\" long int long_int_func(int n) \n",
      "  { \n",
      "    long int init_s=2;\n",
      "    long int sum = 0;\n",
      "    for (int i=1; i<n; i++)\n",
      "      {\n",
      "        init_s=init_s*init_s;\n",
      "        sum = sum+init_s;\n",
      "      }\n",
      "    return sum;\n",
      "  } \n",
      "\n",
      "extern \"C\" float float_func(int n) \n",
      "  { \n",
      "    float init_s=2.0;\n",
      "    float sum = 0;\n",
      "    for (int i=1; i<n; i++)\n",
      "      {\n",
      "        init_s=init_s*init_s;\n",
      "        sum = sum+init_s;\n",
      "      }\n",
      "    return sum;\n",
      "  } \n"
     ]
    }
   ],
   "source": [
    "!cat ./series_cpp.c++"
   ]
  },
  {
   "cell_type": "markdown",
   "metadata": {
    "id": "QziUxORq02UN"
   },
   "source": [
    "To convert to shared library of python I will run the following commands\n"
   ]
  },
  {
   "cell_type": "code",
   "execution_count": 8,
   "metadata": {
    "id": "QWssPPVPzhwt"
   },
   "outputs": [],
   "source": [
    "!gcc  -fPIC -c ./series_cpp.c++ -o ./series_cpp.o -std=c++11"
   ]
  },
  {
   "cell_type": "code",
   "execution_count": 10,
   "metadata": {
    "id": "iinFudwDzxMT"
   },
   "outputs": [],
   "source": [
    "!gcc -shared ./series_cpp.o -o ./series_cpp.so -lstdc++"
   ]
  },
  {
   "cell_type": "code",
   "execution_count": 11,
   "metadata": {
    "colab": {
     "base_uri": "https://localhost:8080/"
    },
    "id": "PKT62u9l7rwO",
    "outputId": "e1e11e9a-d049-4058-98ac-ff992ae9668a"
   },
   "outputs": [
    {
     "name": "stdout",
     "output_type": "stream",
     "text": [
      "-rw-r--r-- 1 compphys compphys  634 Dec  1 02:15 ./series_cpp.c++\n",
      "-rw-r--r-- 1 compphys compphys 3.0K Dec  1 02:17 ./series_cpp.o\n",
      "-rwxr-xr-x 1 compphys compphys 8.5K Dec  1 02:17 ./series_cpp.so\n"
     ]
    }
   ],
   "source": [
    "!ls -lah ./series_cpp.*"
   ]
  },
  {
   "cell_type": "markdown",
   "metadata": {},
   "source": [
    "We will se 3 files as series_cpp.c , series_cpp.o, series_cpp.so in the same directory"
   ]
  },
  {
   "cell_type": "markdown",
   "metadata": {
    "id": "T7Mkfgjv9C4r"
   },
   "source": [
    "Next,  to Import them  as python library i will use ctypes "
   ]
  },
  {
   "cell_type": "code",
   "execution_count": 13,
   "metadata": {
    "id": "nN540i281Akd"
   },
   "outputs": [],
   "source": [
    "from ctypes import *"
   ]
  },
  {
   "cell_type": "code",
   "execution_count": 19,
   "metadata": {
    "id": "PpopZyHJCEo4"
   },
   "outputs": [],
   "source": [
    "my_func = cdll.LoadLibrary(\"./series_cpp.so\")"
   ]
  },
  {
   "cell_type": "markdown",
   "metadata": {},
   "source": [
    "Lets test the them with same input values  as part 1 "
   ]
  },
  {
   "cell_type": "code",
   "execution_count": 23,
   "metadata": {
    "colab": {
     "base_uri": "https://localhost:8080/"
    },
    "id": "t8IVNbqmCMy2",
    "outputId": "f20cb705-6387-49b0-fdd2-bd80d1e0ad5c"
   },
   "outputs": [
    {
     "data": {
      "text/plain": [
       "65812"
      ]
     },
     "execution_count": 23,
     "metadata": {},
     "output_type": "execute_result"
    }
   ],
   "source": [
    "my_func.int_func(c_int(5))"
   ]
  },
  {
   "cell_type": "code",
   "execution_count": 21,
   "metadata": {
    "colab": {
     "base_uri": "https://localhost:8080/"
    },
    "id": "5P4P-lVhDQlQ",
    "outputId": "c9d5e3a4-22b9-4e3e-d9b8-11e156479093"
   },
   "outputs": [
    {
     "data": {
      "text/plain": [
       "5"
      ]
     },
     "execution_count": 21,
     "metadata": {},
     "output_type": "execute_result"
    }
   ],
   "source": [
    "my_func.float_func(c_int(5))"
   ]
  },
  {
   "cell_type": "code",
   "execution_count": 22,
   "metadata": {
    "colab": {
     "base_uri": "https://localhost:8080/"
    },
    "id": "0peGHen_DVyP",
    "outputId": "006e88a7-006e-4532-93f7-a88124f2f41f"
   },
   "outputs": [
    {
     "data": {
      "text/plain": [
       "65812"
      ]
     },
     "execution_count": 22,
     "metadata": {},
     "output_type": "execute_result"
    }
   ],
   "source": [
    "my_func.long_int_func(c_int(5))"
   ]
  },
  {
   "cell_type": "markdown",
   "metadata": {},
   "source": [
    "I am not sure why sum for float is getting wrong but other too seems fine."
   ]
  }
 ],
 "metadata": {
  "colab": {
   "collapsed_sections": [],
   "name": "HW-5",
   "provenance": []
  },
  "kernelspec": {
   "display_name": "Python 3 (ipykernel)",
   "language": "python",
   "name": "python3"
  },
  "language_info": {
   "codemirror_mode": {
    "name": "ipython",
    "version": 3
   },
   "file_extension": ".py",
   "mimetype": "text/x-python",
   "name": "python",
   "nbconvert_exporter": "python",
   "pygments_lexer": "ipython3",
   "version": "3.9.5"
  }
 },
 "nbformat": 4,
 "nbformat_minor": 4
}
