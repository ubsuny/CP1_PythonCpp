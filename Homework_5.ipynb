{
 "cells": [
  {
   "cell_type": "markdown",
   "id": "4d8a0629-62cc-4096-899f-a61fe19d90ed",
   "metadata": {},
   "source": [
    "## Homework 5"
   ]
  },
  {
   "cell_type": "markdown",
   "id": "a47daf63-09d0-47ba-8a61-2782cb80d521",
   "metadata": {},
   "source": [
    "### Problem 1\n",
    "\n",
    "#### Suppose you need to compute the series:\n",
    "\n",
    "#### $f_n = f_{n-1}^2$\n",
    "\n",
    "#### If the value $f_0 = 2$, what is the maximum 𝑛 that can be stored in C++ data types? (9p) Choose three different data types as an example and use the data types sizes used in the docker image for your hardware platform. (3p) Document how you got to the solution. (9p)\n",
    "\n",
    "---\n",
    "\n",
    "Tip for writing equations in Markdown. In Markdown, if we want to write the subscript n-1, put a curly bracket around n-1, so like this f_{n-1}. Similarly, if we want to write 2^16 in Markdown, we surroung 16 with the curly brackets too! Here we can see the difference:\n",
    "\n",
    "$2^{16}$ with curley brackets around 16\n",
    "\n",
    "$2^16$ without curley brackets around 16\n"
   ]
  },
  {
   "cell_type": "markdown",
   "id": "fd287e74-0478-4103-890d-10ebad28f29d",
   "metadata": {},
   "source": [
    "Back to the problem. I will choose these three data types: Unsigned int, float and double. They are common data types in C++, so let's investigate them. Using the example from datatypeexamples.ipynb, we can probably use the ctype function sizeof to investigate the size of each of these three data types."
   ]
  },
  {
   "cell_type": "code",
   "execution_count": 5,
   "id": "12b5a445-6224-49af-9b75-efc67394d8ea",
   "metadata": {},
   "outputs": [],
   "source": [
    "from ctypes import *\n",
    "\n",
    "#Why the asterisk sign at the end of the command? I do not know, \n",
    "#If the asterish sign is not there, the command will return with error.\n"
   ]
  },
  {
   "cell_type": "code",
   "execution_count": 9,
   "id": "cef470dd-fbcb-4638-8109-f7ec5a66bdf6",
   "metadata": {},
   "outputs": [
    {
     "data": {
      "text/plain": [
       "4"
      ]
     },
     "execution_count": 9,
     "metadata": {},
     "output_type": "execute_result"
    }
   ],
   "source": [
    "sizeof(c_uint())"
   ]
  },
  {
   "cell_type": "code",
   "execution_count": 10,
   "id": "893ef02f-484d-4c63-b804-19f0de6d0f05",
   "metadata": {},
   "outputs": [
    {
     "data": {
      "text/plain": [
       "4"
      ]
     },
     "execution_count": 10,
     "metadata": {},
     "output_type": "execute_result"
    }
   ],
   "source": [
    "sizeof(c_float())"
   ]
  },
  {
   "cell_type": "code",
   "execution_count": 11,
   "id": "2c523bc2-c74a-4e75-a630-d25881a6315b",
   "metadata": {},
   "outputs": [
    {
     "data": {
      "text/plain": [
       "8"
      ]
     },
     "execution_count": 11,
     "metadata": {},
     "output_type": "execute_result"
    }
   ],
   "source": [
    "sizeof(c_double())"
   ]
  },
  {
   "cell_type": "markdown",
   "id": "d6dabdcc-d660-4934-b86d-27d2b1231ac9",
   "metadata": {},
   "source": [
    "---\n",
    "\n",
    "The sizof() function returns the number of bytes in the data type. Each byte contains 8 bits typically, and each bit can be 0 or 1. if let's say a datatype have just 1 byte assigned to it, then the maximum number it can store is 11111111, we have eight 1's, and that correponds to the number 255 in decimal system. Or we can express the number 255 as $2^8 - 1$. So 2 raised to the power of the number of bits in the data type minus 1 should tell us the mamimum number that can be recorded by that data type. :) \n",
    "\n",
    "For our problem, $f_0 = 2$. So let's see some examples and get an idea of the pattern:\n",
    "\n",
    "$f_1 = f_0^2 = 2^2$\n",
    "\n",
    "$f_2 = f_1^2 = (2^2)^2 = 2^4$\n",
    "\n",
    "$f_3 = f_2^2 = ((2^4)^2) = 2^8$  \n",
    "\n",
    "$f_4 = f_3^2 = ((2^8)^2) = 2^{16}$ \n",
    "\n",
    "$f_5 = f_4^2 = ((2^{16})^2) = 2^{32}$ \n",
    "\n",
    "So I think the pattern is $f_n = 2^{2^n}$\n",
    "\n",
    "For unsigned integer, it has 4 bytes in it, so the maxinum number it can record is $2^{4\\times8} - 1 = 2^{32} - 1$. It couldn almost record $f_5$, but unfortunately it's smaller by just 1! So the maximum n that be stored on unsigned intger is 4, in other words, $f_4$ is the biggest number in the series it can record.\n",
    "\n",
    "Float and double data types are different from unsigned integer! They are called Floating-Point Types. Our earlier logic about 11111111 being the largest number that can be held with 1 byte doesn't work here. \n",
    "\n",
    "Essentially, a floating point data can be thought of as a number expressed in scientific notation, for example \n",
    "\n",
    "$1.2345 \\times 10^{2}$\n",
    "\n",
    "The bits in the memory will be assigned different roles, one of them will record the sign of the number (positive, 0, or negative, 1); a number of them will record the number itself, although I don't exactly know how to record all the decimal places!? And a number of them will record the exponent. Maybe some bits will also record the base of the exponential! It is complicated. Here is an image from wikipedia entry on floating point arithmatic https://en.wikipedia.org/wiki/Floating-point_arithmetic, and it illustrates what we just said.\n",
    "\n",
    "![Structure for floating point data](https://upload.wikimedia.org/wikipedia/commons/thumb/d/d2/Float_example.svg/1180px-Float_example.svg.png)\n",
    "\n",
    "\n",
    "What is certain out of these complexities is this, the floating point data is not always an integer, that must be very clear. \n",
    "\n",
    "I feel that it's a complex task to estimate the range for the floating point data types, so I'll just refer to what others say about their ranges. :P According to this website: https://www.tutorialspoint.com/cprogramming/c_data_types.htm, the range for c_float is 1.2E-38 to 3.4E+38, and the range for c_double is 2.3E-308 to 1.7E+308. These are some really big numbers. I kind of regret picking these two data types now. \n",
    "\n",
    "By trial and error, $2^{128} = 3.4028237e+38$ and $128 = 2^{7}$\n",
    "\n",
    "Oh, so the range for c_float really isn't that big! It can record up to only $f_7$, in fact I think $f_7$ is bigger than its upper limit, so it can only record $f_6$. The maximum $n$ c_float can store is only 6.\n",
    "\n",
    "(There must be a fixed number of bits assigned to represent the exponent in each data type, I guess the the number of bits assigned to represent the exponent in c_float is 7...)\n",
    "\n",
    "The upper limit for c_double, 1.7E+308, is roughly equal to $2^{1024}$ and $1024 = 2^{10}$. So I think $f_{10}$ is just out of reach for c_double. It can record $f_9$, in other words, the maximum $n$ c_double can store is 9. \n",
    "\n",
    "(Again, I'm guessing that the number of bits assigned to represent the exponent in c_double is 10.)\n",
    "\n",
    "The answers:\n",
    "\n",
    "c_uint, $n = 4$\n",
    "\n",
    "c_float, $n = 6$\n",
    "\n",
    "c_double, $n = 9$\n"
   ]
  },
  {
   "cell_type": "markdown",
   "id": "2839b973-15fe-4a1d-a9e5-b583ece70793",
   "metadata": {},
   "source": [
    "---\n",
    "\n",
    "### Problem 2\n",
    "\n",
    "#### Fork the homework repository (1p):\n",
    "\n",
    "#### https://github.com/ubsuny/CP1_PythonCpp\n",
    "\n",
    "#### Write a C++ method to demonstrate Problem 1 on your computer (12p). That is, implement the series with variables using your three data types (in case you didn’t do P1 choose three C++ data types now). Write (an)other method(s) that returns the value of the variable (with the appropriate data type) at each step of the series (8p).\n",
    "\n",
    "#### Hint: You can start from one of the C++ examples in “ReviewCpp”."
   ]
  },
  {
   "cell_type": "markdown",
   "id": "26cba760-0976-40a5-aa32-51166b541bdb",
   "metadata": {},
   "source": [
    "I'm not really good at programing, so I had to look up some example codes online, and modify those codes :P\n",
    "The series we want is a recursive series, so I looked up examples of c++ loops, and I came across a code that generates the Fibonacci series: https://www.programiz.com/cpp-programming/examples/fibonacci-series As we know the fibonacci series is recursive, so that's exactly what I need :D \n",
    "\n",
    "In fact the code to generate the Fibonacci series is more complicated, since in the Fibonacci series, each term is dependent on the values of TWO preceding terms, whereas in our series, each term is only dependent on the value of the previous term. So with some changes, here is my code:"
   ]
  },
  {
   "cell_type": "code",
   "execution_count": null,
   "id": "2d010070-a219-43c4-88f1-14fc63471f5d",
   "metadata": {},
   "outputs": [],
   "source": [
    "#include <iostream>\n",
    "using namespace std;\n",
    "\n",
    "int main() {\n",
    "    int n; \n",
    "    double t1 = 2, nextTerm = 0;  #This program works with the c++ double data type\n",
    "\n",
    "    cout << \"Enter the largest value of n: \";\n",
    "    cin >> n;\n",
    "\n",
    "    cout << \"Square Series: \";\n",
    "\n",
    "    for (int i = 0; i <= n; ++i) {\n",
    "        // Prints the first term.\n",
    "        if(i == 0) {\n",
    "            cout << t1 << \", \";\n",
    "            continue;\n",
    "        }\n",
    "        \n",
    "        nextTerm = t1 * t1;\n",
    "        \n",
    "        t1 = nextTerm;\n",
    "        \n",
    "        cout << nextTerm << \", \";\n",
    "    }\n",
    "    return 0;\n",
    "}\n"
   ]
  },
  {
   "cell_type": "markdown",
   "id": "aefd608d-3118-4034-9cb4-a9e0d0a81901",
   "metadata": {},
   "source": [
    "---\n",
    "\n",
    "We can't run this code in Jupyter notebook yet, since it only runs python codes. In order to run a c++ code we need to compile it, which is shown in the next problem of this homework, problem 3.\n",
    "\n",
    "We can understand what is happening in this code. We first define an integer n, which is the subscript for our term $f_n$, in fact it is the subscript of the last $f_n$ we want to display, obviously this is an infinite loop, so we need to inform the code where to stop :) \n",
    "\n",
    "The double t1 is our first term in the series, so it is the value of $f_0$, and as we know, $f_0 = 2$. Also we can see in this code, we use the data type c_double :) \n",
    "\n",
    "The code asks us for the largest $n$ we want:\n",
    "\n",
    "    cout << \"Enter the largest value of n: \";\n",
    "    cin >> n;\n",
    "\n",
    "Then it is a standard for loop in c++ \n",
    "\n",
    "for (initialization; condition; update) \n",
    "\n",
    "{\n",
    "    // body of-loop \n",
    "}\n",
    "\n",
    "The integer i keeps track of the terms we are generating. It goes from 0, and increase with steps of 1. So i is the subscript of each term $f_i$. We define the first term in the series first, $f_0 = t1$, then we update the value of each term with the value of the previous term. \n",
    "\n",
    "To change the data type, we just modify this line: \n",
    "\n",
    "double t1 = 2, nextTerm = 0;\n",
    "\n",
    "Replace double with any other c++ data type we want. For instance, here are the codes for unsigned integer and float:"
   ]
  },
  {
   "cell_type": "code",
   "execution_count": null,
   "id": "30f60dbf-35b7-4874-a223-87c56e061087",
   "metadata": {},
   "outputs": [],
   "source": [
    "#include <iostream>\n",
    "using namespace std;\n",
    "\n",
    "int main() {\n",
    "    int n; \n",
    "    unsigned int t1 = 2, nextTerm = 0; #This program works with the c++ unsigned integer data type\n",
    "\n",
    "    cout << \"Enter the largest value of n: \";\n",
    "    cin >> n;\n",
    "\n",
    "    cout << \"Square Series: \";\n",
    "\n",
    "    for (int i = 0; i <= n; ++i) {\n",
    "        // Prints the first term.\n",
    "        if(i == 0) {\n",
    "            cout << t1 << \", \";\n",
    "            continue;\n",
    "        }\n",
    "        \n",
    "        nextTerm = t1 * t1;\n",
    "        \n",
    "        t1 = nextTerm;\n",
    "        \n",
    "        cout << nextTerm << \", \";\n",
    "    }\n",
    "    return 0;\n",
    "}"
   ]
  },
  {
   "cell_type": "code",
   "execution_count": null,
   "id": "ec3bf8e6-3606-425e-a016-eaa28e39634c",
   "metadata": {},
   "outputs": [],
   "source": [
    "#include <iostream>\n",
    "using namespace std;\n",
    "\n",
    "int main() {\n",
    "    int n; \n",
    "    float t1 = 2, nextTerm = 0;  #This program works with the c++ float data type\n",
    "\n",
    "    cout << \"Enter the largest value of n: \"; \n",
    "    cin >> n;\n",
    "\n",
    "    cout << \"Square Series: \";\n",
    "\n",
    "    for (int i = 0; i <= n; ++i) {\n",
    "        // Prints the first term.\n",
    "        if(i == 0) {\n",
    "            cout << t1 << \", \";\n",
    "            continue;\n",
    "        }\n",
    "        \n",
    "        nextTerm = t1 * t1;\n",
    "        \n",
    "        t1 = nextTerm;\n",
    "        \n",
    "        cout << nextTerm << \", \";\n",
    "    }\n",
    "    return 0;\n",
    "}"
   ]
  },
  {
   "cell_type": "markdown",
   "id": "a0ca2e07-6710-4de9-b1b7-5964058eb97d",
   "metadata": {},
   "source": [
    "---\n",
    "\n",
    "These c++ codes are all tested on my own computer, and they work! :D Here are some screenshots from my computer.\n",
    "\n",
    "![Results for unsigned integer](https://github.com/piaohanx/CP1_PythonCpp/blob/main/uint.png?raw=true)\n",
    "Our answer in problem 1 seems correct! The maximum $n$ that can be stored on c_uint is 4, and if I ask the program to run to $f_5$, then it returns the $f_5$ value as 0, it glitches out as we expected :)\n",
    "\n",
    "Here are the results for the c_float and c_double data types. I also included the steps of how we compile a c++ code using the compiler g++.\n",
    "\n",
    "![Results for c_float and c_double](https://github.com/piaohanx/CP1_PythonCpp/blob/main/f_and_d.png?raw=true)\n",
    "\n",
    "The maximum $n$ that can be stored on c_float is 6, and if I ask the program to run to $f_7$, then it returns the $f_7$ value as infinity! The program is pretty smart, it knows the value exceeds its range, so it just calls it inifinity :) \n",
    "\n",
    "The maximum $n$ that can be stored on c_float is 9, and if I ask the program to run to $f_10$, then it returns the $f_10$ value as infinity."
   ]
  },
  {
   "cell_type": "markdown",
   "id": "f59e37a9-6d10-46ee-89dc-f1f3ee014778",
   "metadata": {},
   "source": [
    "---\n",
    "\n",
    "### Problem 3 (21 points)\n",
    "#### Use either ctypes or SWIG to generate a (shared) library of problem 2 (7p) (In case you didn’t do problem 2 choose any C++ example from the “ReviewCpp” folder). Add a documentation how you did that (7p). Import that library into a Jupyter notebook and use it to document if you see what you expect (and / or compare with problem 1). Why or why not? (7p)"
   ]
  },
  {
   "cell_type": "markdown",
   "id": "fe933559-6b1b-448a-9a7d-6d4a3624a0c6",
   "metadata": {},
   "source": [
    "I tried to use ctype, since that is the method I went through during the class. \n",
    "\n",
    "I used the ctype_setuptools.ipynb as my template. \n",
    "\n",
    "First we write a setup python file. I named it setup2.py, and it looks like this:"
   ]
  },
  {
   "cell_type": "code",
   "execution_count": null,
   "id": "4ac60582-42a8-4725-a867-9a3d2a883fd8",
   "metadata": {},
   "outputs": [],
   "source": [
    "from setuptools import setup, Extension\n",
    "\n",
    "# Compile *double _square2.cpp* into a shared library \n",
    "setup(\n",
    "    # the square series code has to end in cpp for it to work.\n",
    "    ext_modules=[Extension('square', ['double_square2.cpp'],\n",
    "                          language=\"C++\",),], \n",
    ")"
   ]
  },
  {
   "cell_type": "markdown",
   "id": "8c0787f9-3fd2-4c84-90e8-b024751e96d3",
   "metadata": {},
   "source": [
    "---\n",
    "\n",
    "We have to modify our original c++ code a little, and make sure it ends with .cpp, instead of .cc or anything else. Only .cpp file works somehow. \n",
    "\n",
    "The modified c++ code looks like this, and it is renamed double_square2.cpp"
   ]
  },
  {
   "cell_type": "code",
   "execution_count": null,
   "id": "30d5720c-0444-4dbe-af90-6f4371cf9462",
   "metadata": {},
   "outputs": [],
   "source": [
    "/*\n",
    "The keyword [ extern “C” ] is used to declare functions in C++ to be compiled in C. The compiler will use C libraries and won't screw up the function names. Also python is written in C and so you have to make sure that your C++ library is C callable.\n",
    "*/\n",
    " \n",
    "\n",
    "    #include <cstdio>\n",
    "    \n",
    "extern \"C\"  int Square() {\n",
    "    int n = 4; \n",
    "    double t1 = 2, nextTerm = 0;\n",
    "    \n",
    "\n",
    "    for (int i = 0; i <= n; ++i) {\n",
    "        // Prints the first term.\n",
    "        if(i == 0) {\n",
    "            printf(\"  %f\\n\", t1);\n",
    "            continue;\n",
    "        }\n",
    "        \n",
    "        nextTerm = t1 * t1;\n",
    "        \n",
    "        t1 = nextTerm;\n",
    "        \n",
    "        printf(\"  %f\\n\", nextTerm);\n",
    "    }\n",
    "    return 0;\n",
    "}"
   ]
  },
  {
   "cell_type": "markdown",
   "id": "af4bb92d-a8df-4087-90cd-51749df8b37f",
   "metadata": {},
   "source": [
    "---\n",
    "\n",
    "As you can see I replaced all the std:cout() entries with printf() functions, the ctype importer doesn't like std:cout(). Also I need to add the line #include <cstdio>, in order to use print() function\n",
    "    \n",
    "Most importantly! I have to put <span style=\"color:blue\">extern \"C\"</span> right in front of my main function <span style=\"color:blue\">int Square()</span>. Then the ctype importer can identify the function <span style=\"color:blue\">int Square()</span>. Otherwise it would say 'Square is not defined'.\n",
    "\n",
    "Next we run setup2.py with the following command. The exclamation mark means this command is run in the terminal."
   ]
  },
  {
   "cell_type": "code",
   "execution_count": 1,
   "id": "d441d96c-a20e-4117-8518-386895b31ae4",
   "metadata": {},
   "outputs": [
    {
     "name": "stdout",
     "output_type": "stream",
     "text": [
      "running build\n",
      "running build_ext\n",
      "building 'square' extension\n",
      "creating build\n",
      "creating build/temp.linux-x86_64-3.9\n",
      "x86_64-linux-gnu-gcc -pthread -Wno-unused-result -Wsign-compare -DNDEBUG -g -fwrapv -O2 -Wall -g -ffile-prefix-map=/build/python3.9-1n6GrT/python3.9-3.9.5=. -fstack-protector-strong -Wformat -Werror=format-security -g -fwrapv -O2 -g -ffile-prefix-map=/build/python3.9-1n6GrT/python3.9-3.9.5=. -fstack-protector-strong -Wformat -Werror=format-security -Wdate-time -D_FORTIFY_SOURCE=2 -fPIC -I/usr/include/python3.9 -c double_square2.cpp -o build/temp.linux-x86_64-3.9/double_square2.o\n",
      "creating build/lib.linux-x86_64-3.9\n",
      "x86_64-linux-gnu-gcc -pthread -shared -Wl,-O1 -Wl,-Bsymbolic-functions -Wl,-Bsymbolic-functions -Wl,-z,relro -g -fwrapv -O2 -Wl,-Bsymbolic-functions -Wl,-z,relro -g -fwrapv -O2 -g -ffile-prefix-map=/build/python3.9-1n6GrT/python3.9-3.9.5=. -fstack-protector-strong -Wformat -Werror=format-security -Wdate-time -D_FORTIFY_SOURCE=2 build/temp.linux-x86_64-3.9/double_square2.o -o build/lib.linux-x86_64-3.9/square.cpython-39-x86_64-linux-gnu.so\n"
     ]
    }
   ],
   "source": [
    "!python setup2.py build"
   ]
  },
  {
   "cell_type": "markdown",
   "id": "d5d3aefb-4cad-44aa-a240-d63d08192c5a",
   "metadata": {},
   "source": [
    "---\n",
    "\n",
    "Yah! A bunch of stuff, this means the c++ code has been successfully compiled! Otherwise it would tell you where the errors are.\n",
    "\n",
    "Then we find the output file, in other words, the executable file, using this command"
   ]
  },
  {
   "cell_type": "code",
   "execution_count": 2,
   "id": "bddeaa79-29c4-427d-b2ea-8909e5053cf2",
   "metadata": {},
   "outputs": [
    {
     "name": "stdout",
     "output_type": "stream",
     "text": [
      "total 24K\n",
      "drwxr-xr-x 3 compphys compphys  96 Oct 31 19:55 .\n",
      "drwxr-xr-x 4 compphys compphys 128 Oct 31 19:55 ..\n",
      "-rwxr-xr-x 1 compphys compphys 21K Oct 31 19:55 square.cpython-39-x86_64-linux-gnu.so\n"
     ]
    }
   ],
   "source": [
    "!ls -lah build/lib.linux-x86_64-3.9"
   ]
  },
  {
   "cell_type": "markdown",
   "id": "b1e54c96-b720-47bb-a6e2-ac996a4c03b3",
   "metadata": {},
   "source": [
    "---\n",
    "\n",
    "So, out executable file is named \"square.cpython-39-x86_64-linux-gnu.so\". Next we import it using ctypes."
   ]
  },
  {
   "cell_type": "code",
   "execution_count": 3,
   "id": "4b024e75-a05f-41a3-8a7f-2d694cc4dfcb",
   "metadata": {},
   "outputs": [],
   "source": [
    "import ctypes\n",
    "import numpy as np\n",
    "\n",
    "csquare = ctypes.cdll.LoadLibrary(\"./build/lib.linux-x86_64-3.9/square.cpython-39-x86_64-linux-gnu.so\")"
   ]
  },
  {
   "cell_type": "markdown",
   "id": "feedd087-f5ef-47a7-9465-196a061045fb",
   "metadata": {},
   "source": [
    "---\n",
    "\n",
    "Nothing happens when we press shift + enter, so we are good. It is almost imported now. \n",
    "\n",
    "Next we defined the input for our code."
   ]
  },
  {
   "cell_type": "code",
   "execution_count": 4,
   "id": "603f40a4-9600-4672-8dd1-b96a3fe30c79",
   "metadata": {},
   "outputs": [],
   "source": [
    "csquare.Square.restype = ctypes.c_int\n",
    "csquare.Square.restype = ctypes.c_double\n",
    "\n",
    "csquare.Square.argtypes = [ctypes.c_int, ctypes.c_double, ctypes.c_double]"
   ]
  },
  {
   "cell_type": "markdown",
   "id": "2e15f2fd-c9ad-49b8-a463-4642a09c8002",
   "metadata": {},
   "source": [
    "---\n",
    "\n",
    "Nothing happens again when we press shift + enter, now we know the code is now fully imported!! If we had not put <span style=\"color:blue\">extern \"C\"</span> right in front of the main function <span style=\"color:blue\">int Square()</span> in the cpp code, it would return with error in this step, \"Square is not defined\", thankfully we corrected that mistake, and it works fine.\n",
    "\n",
    "Time to reap the reward, let's run the code!\n"
   ]
  },
  {
   "cell_type": "code",
   "execution_count": 5,
   "id": "e8a35d1c-b71e-4aea-a01c-2a65d38c3d6e",
   "metadata": {},
   "outputs": [
    {
     "name": "stdout",
     "output_type": "stream",
     "text": [
      "65536.0\n"
     ]
    }
   ],
   "source": [
    "result = csquare.Square(4, 2, 0)\n",
    "\n",
    "print(result)"
   ]
  },
  {
   "cell_type": "markdown",
   "id": "78874bed-ca96-48e2-b902-e734c400c91f",
   "metadata": {},
   "source": [
    "---\n",
    "\n",
    "We specified our input (4, 2, 0), and this means ($f_4$ is what we want, $f_0 = 2$ initially, some more initialization) \n",
    "\n",
    "And indeed if $f_0 = 2$, then $f_4 = 65536$. And we defined our variable to be c_double, so it has a decimal place, as we would expect! Now we're happy."
   ]
  },
  {
   "cell_type": "code",
   "execution_count": null,
   "id": "21d7bd77-f123-447c-84af-eda134a1b46b",
   "metadata": {},
   "outputs": [],
   "source": []
  }
 ],
 "metadata": {
  "kernelspec": {
   "display_name": "Python 3 (ipykernel)",
   "language": "python",
   "name": "python3"
  },
  "language_info": {
   "codemirror_mode": {
    "name": "ipython",
    "version": 3
   },
   "file_extension": ".py",
   "mimetype": "text/x-python",
   "name": "python",
   "nbconvert_exporter": "python",
   "pygments_lexer": "ipython3",
   "version": "3.9.5"
  }
 },
 "nbformat": 4,
 "nbformat_minor": 5
}
